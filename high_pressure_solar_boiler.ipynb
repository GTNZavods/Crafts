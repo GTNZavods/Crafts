{
    "cells": [
        {
            "cell_type": "markdown",
            "metadata": {},
            "source": "# High Pressure Solar Boiler\nCalculating distilled water requirements\nhttps://github.com/GTNewHorizons/GT5-Unofficial/pull/487"
        },
        {
            "cell_type": "code",
            "execution_count": 14,
            "metadata": {
                "trusted": true
            },
            "outputs": [],
            "source": "from math import ceil"
        },
        {
            "cell_type": "code",
            "execution_count": 20,
            "metadata": {
                "trusted": true
            },
            "outputs": [],
            "source": "def num_of_basic_turbines_required(voltage):\n    return voltage / 32\n\nSOLAR_BOILER_OUTPUT = 360"
        },
        {
            "cell_type": "code",
            "execution_count": null,
            "metadata": {
                "trusted": true
            },
            "outputs": [],
            "source": "water_required_for_solar_boiler = SOLAR_BOILER_OUTPUT / 160\nwater_required_for_solar_boiler"
        },
        {
            "cell_type": "markdown",
            "metadata": {},
            "source": "Calculating production power required for that via simple water distillation."
        },
        {
            "cell_type": "code",
            "execution_count": 9,
            "metadata": {
                "trusted": true
            },
            "outputs": [
                {
                    "data": {
                        "text/plain": "6.25"
                    },
                    "execution_count": 9,
                    "metadata": {},
                    "output_type": "execute_result"
                }
            ],
            "source": "distilled_water_generated_per_sec = 5 / 0.8\ndistilled_water_generated_per_sec"
        },
        {
            "cell_type": "code",
            "execution_count": 10,
            "metadata": {
                "trusted": true
            },
            "outputs": [
                {
                    "data": {
                        "text/plain": "0.36"
                    },
                    "execution_count": 10,
                    "metadata": {},
                    "output_type": "execute_result"
                }
            ],
            "source": "number_of_distillaries_for_one_boiler = water_required_for_solar_boiler / distilled_water_generated_per_sec\nnumber_of_distillaries_for_one_boiler"
        },
        {
            "cell_type": "markdown",
            "metadata": {},
            "source": "For our amount of solar boilers we will need:"
        },
        {
            "cell_type": "code",
            "execution_count": 15,
            "metadata": {
                "trusted": true
            },
            "outputs": [],
            "source": "NUM_OF_BOILERS = 24\nnumber_of_distillaries = ceil(NUM_OF_BOILERS * number_of_distillaries_for_one_boiler)"
        },
        {
            "cell_type": "markdown",
            "metadata": {},
            "source": "Each distillery costs 10 EU/t"
        },
        {
            "cell_type": "code",
            "execution_count": 16,
            "metadata": {
                "trusted": true
            },
            "outputs": [
                {
                    "data": {
                        "text/plain": "90"
                    },
                    "execution_count": 16,
                    "metadata": {},
                    "output_type": "execute_result"
                }
            ],
            "source": "total_voltage_required = number_of_distillaries * 10\ntotal_voltage_required"
        },
        {
            "cell_type": "code",
            "execution_count": 21,
            "metadata": {
                "trusted": true
            },
            "outputs": [
                {
                    "data": {
                        "text/plain": "2.8125"
                    },
                    "execution_count": 21,
                    "metadata": {},
                    "output_type": "execute_result"
                }
            ],
            "source": "num_of_basic_turbines_required(total_voltage_required)"
        },
        {
            "cell_type": "markdown",
            "metadata": {},
            "source": "It will be almost half of what we get:"
        },
        {
            "cell_type": "code",
            "execution_count": 23,
            "metadata": {
                "trusted": true
            },
            "outputs": [
                {
                    "data": {
                        "text/plain": "0.23195876288659795"
                    },
                    "execution_count": 23,
                    "metadata": {},
                    "output_type": "execute_result"
                }
            ],
            "source": "basic_turbine_per_solar_boiler = SOLAR_BOILER_OUTPUT / 1552\nbasic_turbine_per_solar_boiler"
        },
        {
            "cell_type": "code",
            "execution_count": 27,
            "metadata": {
                "trusted": true
            },
            "outputs": [
                {
                    "data": {
                        "text/plain": "5.56701030927835"
                    },
                    "execution_count": 27,
                    "metadata": {},
                    "output_type": "execute_result"
                }
            ],
            "source": "total_basic_turbines = NUM_OF_BOILERS * basic_turbine_per_solar_boiler\ntotal_basic_turbines"
        },
        {
            "cell_type": "markdown",
            "metadata": {},
            "source": "Calculating production power required for\nthat via electrolyzer and distillery combo."
        },
        {
            "cell_type": "code",
            "execution_count": null,
            "metadata": {
                "trusted": true
            },
            "outputs": [],
            "source": "from sympy import symbols\ndistilled_water = symbols('distilled_water')\n\ndistilled_water = (500 * oxygen + 1000 * hydrogen) / 500 # 1 L\n\ndistilled_water_t = symbols('distilled_water_t')\n\n# distilled_water_t = 500 / 0.25 + oxygen_t + hydrogen_t\n\n# distilled_water, distilled_water_t"
        },
        {
            "cell_type": "markdown",
            "metadata": {},
            "source": "54 L of distilled_water for 24 boilers to run them for 1s.\n\nTherefore one chemical reactor will be enough for `distilled_water_t`:"
        },
        {
            "cell_type": "code",
            "execution_count": null,
            "metadata": {
                "trusted": true
            },
            "outputs": [],
            "source": "distilled_water_t = ( 500 / 0.25 ) / 54\ndistilled_water_t"
        },
        {
            "cell_type": "markdown",
            "metadata": {},
            "source": "For that you will need to supply it with 30 EU/t:"
        },
        {
            "cell_type": "code",
            "execution_count": null,
            "metadata": {
                "trusted": true
            },
            "outputs": [],
            "source": "total_voltage_required = 0\ntotal_voltage_required += 30"
        },
        {
            "cell_type": "markdown",
            "metadata": {},
            "source": "Also you'll need `hydrogen` L of hydrogen and `oxygen` L of oxygen to\nperform this operation. Both of these can be acquired through electrolysis:"
        },
        {
            "cell_type": "code",
            "execution_count": null,
            "metadata": {
                "trusted": true
            },
            "outputs": [],
            "source": "oxygen, hydrogen = symbols('oxygen, hydrogen')\noxygen_t, hydrogen_t = symbols('oxygen_t, hydrogen_t')\noxygen = 500 * 4\nhydrogen = 1000 * 4"
        },
        {
            "cell_type": "markdown",
            "metadata": {},
            "source": "Time needed to get these amount in electrolyzer:"
        },
        {
            "cell_type": "code",
            "execution_count": null,
            "metadata": {
                "trusted": true
            },
            "outputs": [],
            "source": "oxygen_t = 50 * 4\nhydrogen_t = oxygen_t"
        },
        {
            "cell_type": "markdown",
            "metadata": {},
            "source": "For that operation you'll need 30 EU/t:"
        },
        {
            "cell_type": "code",
            "execution_count": null,
            "metadata": {
                "trusted": true
            },
            "outputs": [],
            "source": "number_of_electrolyzers = ceil(oxygen_t / distilled_water_t)\nnumber_of_electrolyzers"
        },
        {
            "cell_type": "code",
            "execution_count": null,
            "metadata": {
                "trusted": true
            },
            "outputs": [],
            "source": "total_voltage_required += 30 * number_of_electrolyzers"
        },
        {
            "cell_type": "markdown",
            "metadata": {},
            "source": "Finally, resources and time needed:"
        },
        {
            "cell_type": "code",
            "execution_count": 22,
            "metadata": {
                "trusted": true
            },
            "outputs": [
                {
                    "data": {
                        "text/plain": "90"
                    },
                    "execution_count": 22,
                    "metadata": {},
                    "output_type": "execute_result"
                }
            ],
            "source": "total_voltage_required"
        }
    ],
    "metadata": {
        "kernelspec": {
            "display_name": "Python 3 (ipykernel)",
            "language": "python",
            "name": "python3"
        },
        "language_info": {
            "codemirror_mode": {
                "name": "ipython",
                "version": 3
            },
            "file_extension": ".py",
            "mimetype": "text/x-python",
            "name": "python",
            "nbconvert_exporter": "python",
            "pygments_lexer": "ipython3",
            "version": "3.10.8"
        }
    },
    "nbformat": 4,
    "nbformat_minor": 5
}