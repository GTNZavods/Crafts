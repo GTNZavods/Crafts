{
    "cells": [
        {
            "cell_type": "markdown",
            "metadata": {},
            "source": "# Large Bronze Boiler"
        },
        {
            "cell_type": "code",
            "execution_count": 4,
            "metadata": {
                "trusted": true
            },
            "outputs": [
                {
                    "data": {
                        "text/latex": "$\\displaystyle 12 pipe + 224 plate + 52 rod$",
                        "text/plain": "12*pipe + 224*plate + 52*rod"
                    },
                    "execution_count": 4,
                    "metadata": {},
                    "output_type": "execute_result"
                }
            ],
            "source": "from sympy import symbols\nfire_casing, plate, rod, frame, pipe = symbols('fire_casing, plate, rod, frame, pipe')\n\nframe = 4*rod\n\nfire_casing = 4*plate + 4*rod + frame\nfire_casing\n\npipe_casing = 4*plate + 4*pipe + frame\n\nbrick = 6*plate\n\ncontroller = fire_casing\n\nresult = 4*fire_casing + 32*brick + controller + 3*pipe_casing\nresult"
        },
        {
            "cell_type": "markdown",
            "metadata": {},
            "source": "Number of bronze required:"
        },
        {
            "cell_type": "code",
            "execution_count": 5,
            "metadata": {
                "trusted": true
            },
            "outputs": [
                {
                    "data": {
                        "text/plain": "312"
                    },
                    "execution_count": 5,
                    "metadata": {},
                    "output_type": "execute_result"
                }
            ],
            "source": "from sympy import lambdify\n\nf = lambdify([pipe, plate, rod], result)\nf(3, 1, 1)"
        },
        {
            "cell_type": "markdown",
            "metadata": {},
            "source": "Number of Water Tanks required:\n\nSource: https://gtnh.miraheze.org/wiki/Water_Tank"
        },
        {
            "cell_type": "code",
            "execution_count": 14,
            "metadata": {
                "trusted": true
            },
            "outputs": [
                {
                    "data": {
                        "text/plain": "9"
                    },
                    "execution_count": 14,
                    "metadata": {},
                    "output_type": "execute_result"
                }
            ],
            "source": "from math import ceil\n\nboiler_water_input = 800 / 150\n\nhumidity = symbols('humidity')\n\ntank_output = lambdify(humidity, humidity / 10 * 2.5 / 20)\ntank_output_in_caniforous = tank_output(50)\n\nnumber_of_water_tanks_required = ceil(boiler_water_input / tank_output_in_caniforous)\nnumber_of_water_tanks_required"
        },
        {
            "cell_type": "code",
            "execution_count": null,
            "metadata": {
                "trusted": true
            },
            "outputs": [],
            "source": ""
        }
    ],
    "metadata": {
        "kernelspec": {
            "display_name": "Python 3 (ipykernel)",
            "language": "python",
            "name": "python3"
        },
        "language_info": {
            "codemirror_mode": {
                "name": "ipython",
                "version": 3
            },
            "file_extension": ".py",
            "mimetype": "text/x-python",
            "name": "python",
            "nbconvert_exporter": "python",
            "pygments_lexer": "ipython3",
            "version": "3.10.8"
        }
    },
    "nbformat": 4,
    "nbformat_minor": 5
}