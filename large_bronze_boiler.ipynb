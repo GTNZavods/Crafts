{
    "cells": [
        {
            "cell_type": "code",
            "execution_count": 20,
            "metadata": {
                "trusted": true
            },
            "outputs": [
                {
                    "data": {
                        "text/latex": "$\\displaystyle 12 pipe + 224 plate + 52 rod$",
                        "text/plain": "12*pipe + 224*plate + 52*rod"
                    },
                    "execution_count": 20,
                    "metadata": {},
                    "output_type": "execute_result"
                }
            ],
            "source": "from sympy import symbols, nsolve, lambdify\nfire_casing = symbols('fire_casing')\nplate = symbols('plate')\nrod = symbols('rod')\nframe = symbols('frame')\npipe = symbols('pipe')\n\nframe = 4*rod\n\nfire_casing = 4*plate + 4*rod + frame\nfire_casing\n\npipe_casing = 4*plate + 4*pipe + frame\n\nbrick = 6*plate\n\ncontroller = fire_casing\n\nresult = 4*fire_casing + 32*brick + controller + 3*pipe_casing\nresult"
        },
        {
            "cell_type": "code",
            "execution_count": 19,
            "metadata": {
                "trusted": true
            },
            "outputs": [
                {
                    "data": {
                        "text/plain": "312"
                    },
                    "execution_count": 19,
                    "metadata": {},
                    "output_type": "execute_result"
                }
            ],
            "source": "# Number of bronze required.\nf = lambdify([pipe, plate, rod], result)\nf(3, 1, 1)"
        }
    ],
    "metadata": {
        "kernelspec": {
            "display_name": "Python 3 (ipykernel)",
            "language": "python",
            "name": "python3"
        },
        "language_info": {
            "codemirror_mode": {
                "name": "ipython",
                "version": 3
            },
            "file_extension": ".py",
            "mimetype": "text/x-python",
            "name": "python",
            "nbconvert_exporter": "python",
            "pygments_lexer": "ipython3",
            "version": "3.10.8"
        }
    },
    "nbformat": 4,
    "nbformat_minor": 5
}